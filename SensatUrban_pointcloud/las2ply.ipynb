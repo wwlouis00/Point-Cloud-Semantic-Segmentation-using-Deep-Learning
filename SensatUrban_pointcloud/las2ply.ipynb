{
 "cells": [
  {
   "cell_type": "code",
   "execution_count": 5,
   "metadata": {},
   "outputs": [],
   "source": [
    "import numpy as np\n",
    "import laspy as lp\n",
    "from tool import DataProcessing as DP\n",
    "from helper_ply import write_ply, read_ply\n",
    "from tqdm import tqdm\n"
   ]
  },
  {
   "cell_type": "code",
   "execution_count": 9,
   "metadata": {},
   "outputs": [],
   "source": [
    "path = './Dataset/SensatUrban/1/cambridge_block_17.ply'\n",
    "xyz, rgb = DP.read_ply_data(path, with_rgb=True, with_label=False)"
   ]
  },
  {
   "cell_type": "code",
   "execution_count": 13,
   "metadata": {},
   "outputs": [
    {
     "name": "stdout",
     "output_type": "stream",
     "text": [
      "1044.2391764955296\n",
      "2048.934916886426\n",
      "39.643894923873894\n"
     ]
    }
   ],
   "source": [
    "length = xyz.shape[0]\n",
    "sum_x = np.sum(xyz[:, 0])\n",
    "sum_y = np.sum(xyz[:, 1])\n",
    "sum_z = np.sum(xyz[:, 2])\n",
    "x = sum_x/length\n",
    "y = sum_y/length\n",
    "z = sum_z/length\n",
    "print(x)\n",
    "print(y)\n",
    "print(z)"
   ]
  },
  {
   "cell_type": "code",
   "execution_count": 26,
   "metadata": {},
   "outputs": [],
   "source": [
    "path2= './output/output_1.ply'\n",
    "xyz2, rgb2 = DP.read_ply_data(path2, with_rgb=True, with_label=False)"
   ]
  },
  {
   "cell_type": "code",
   "execution_count": 27,
   "metadata": {},
   "outputs": [
    {
     "name": "stdout",
     "output_type": "stream",
     "text": [
      "272023.23462732113\n",
      "2768801.6810691734\n",
      "85.93140776051813\n"
     ]
    }
   ],
   "source": [
    "length = xyz2.shape[0]\n",
    "sum_x2 = np.sum(xyz2[:, 0])\n",
    "sum_y2 = np.sum(xyz2[:, 1])\n",
    "sum_z2 = np.sum(xyz2[:, 2])\n",
    "x2 = sum_x2/length\n",
    "y2 = sum_y2/length\n",
    "z2 = sum_z2/length\n",
    "print(x2)\n",
    "print(y2)\n",
    "print(z2)"
   ]
  },
  {
   "cell_type": "code",
   "execution_count": 28,
   "metadata": {},
   "outputs": [
    {
     "name": "stdout",
     "output_type": "stream",
     "text": [
      "272448.97268604464\n",
      "2768556.926875687\n",
      "87.34436235290374\n"
     ]
    }
   ],
   "source": [
    "path3= './output/output_2.ply'\n",
    "xyz3, rgb3 = DP.read_ply_data(path3, with_rgb=True, with_label=False)\n",
    "length3 = xyz3.shape[0]\n",
    "sum_x3 = np.sum(xyz3[:, 0])\n",
    "sum_y3 = np.sum(xyz3[:, 1])\n",
    "sum_z3 = np.sum(xyz3[:, 2])\n",
    "x3 = sum_x3/length3\n",
    "y3 = sum_y3/length3\n",
    "z3 = sum_z3/length3\n",
    "print(x3)\n",
    "print(y3)\n",
    "print(z3)"
   ]
  },
  {
   "cell_type": "code",
   "execution_count": 30,
   "metadata": {},
   "outputs": [
    {
     "name": "stdout",
     "output_type": "stream",
     "text": [
      "272266.28807301976\n",
      "2768611.057881151\n",
      "85.152511099244\n"
     ]
    }
   ],
   "source": [
    "path4= './output/output_3.ply'\n",
    "xyz4, rgb4 = DP.read_ply_data(path4, with_rgb=True, with_label=False)\n",
    "length4 = xyz4.shape[0]\n",
    "sum_x4 = np.sum(xyz4[:, 0])\n",
    "sum_y4 = np.sum(xyz4[:, 1])\n",
    "sum_z4 = np.sum(xyz4[:, 2])\n",
    "x4 = sum_x4/length4\n",
    "y4 = sum_y4/length4\n",
    "z4 = sum_z4/length4\n",
    "print(x4)\n",
    "print(y4)\n",
    "print(z4)"
   ]
  },
  {
   "cell_type": "code",
   "execution_count": 31,
   "metadata": {},
   "outputs": [
    {
     "name": "stdout",
     "output_type": "stream",
     "text": [
      "272246.1651287952 2768656.5552753373 86.14276040422196\n"
     ]
    }
   ],
   "source": [
    "X = (x2 + x3 + x4)/3\n",
    "Y = (y2 + y3 + y4)/3\n",
    "Z = (z2 + z3 + z4)/3\n",
    "print(X,Y,Z)"
   ]
  },
  {
   "cell_type": "code",
   "execution_count": 32,
   "metadata": {},
   "outputs": [
    {
     "name": "stdout",
     "output_type": "stream",
     "text": [
      "271201.9259522997 2766607.620358451 46.498865480348066\n"
     ]
    }
   ],
   "source": [
    "tx = X - x\n",
    "ty = Y - y\n",
    "tz = Z - z \n",
    "print(tx, ty, tz)"
   ]
  },
  {
   "cell_type": "code",
   "execution_count": 2,
   "metadata": {},
   "outputs": [],
   "source": [
    "input_paths = [ './input/output_1.las',\n",
    "                './input/output_2.las',\n",
    "                './input/output_3.las']"
   ]
  },
  {
   "cell_type": "code",
   "execution_count": 3,
   "metadata": {},
   "outputs": [],
   "source": [
    "output_paths = ['./output/output_1.ply',\n",
    "                './output/output_2.ply',\n",
    "                './output/output_3.ply']"
   ]
  },
  {
   "cell_type": "code",
   "execution_count": 8,
   "metadata": {},
   "outputs": [
    {
     "name": "stdout",
     "output_type": "stream",
     "text": [
      "[[1 1 1]\n",
      " [1 1 1]\n",
      " [1 1 1]]\n",
      "[[1 1 1]]\n",
      "[[2 2 2]\n",
      " [2 2 2]\n",
      " [2 2 2]]\n"
     ]
    }
   ],
   "source": [
    "a = np.ones((3,3),dtype=np.uint)\n",
    "b = np.ones((1,3),dtype=np.uint)\n",
    "print(a)\n",
    "print(b)\n",
    "for i in range(3):\n",
    "    a[i,:] = a[i,:] + b\n",
    "print(a)"
   ]
  },
  {
   "cell_type": "code",
   "execution_count": 4,
   "metadata": {},
   "outputs": [
    {
     "name": "stderr",
     "output_type": "stream",
     "text": [
      "  0%|          | 0/3 [00:00<?, ?it/s]"
     ]
    },
    {
     "name": "stdout",
     "output_type": "stream",
     "text": [
      "122038733\n",
      "(122038733,)\n",
      "(122038733, 3)\n",
      "[(271862.9, 2768427.62, 88.78, 255, 255, 255,  0)\n",
      " (271862.9, 2768427.62, 88.78, 255, 255, 255,  9)\n",
      " (271862.2, 2768428.22, 88.78, 255, 255, 255,  9) ...\n",
      " (272203.8, 2768524.22, 87.78, 255, 255, 255, 12)\n",
      " (272203.6, 2768524.12, 88.58, 255, 255, 255,  2)\n",
      " (272198.6, 2768515.32, 87.48, 255, 255, 255,  7)]\n"
     ]
    },
    {
     "name": "stderr",
     "output_type": "stream",
     "text": [
      " 33%|███▎      | 1/3 [00:09<00:19,  9.62s/it]"
     ]
    },
    {
     "name": "stdout",
     "output_type": "stream",
     "text": [
      "115267121\n",
      "(115267121,)\n",
      "(115267121, 3)\n",
      "[(272485.7, 2768189.22,  86.78, 255, 255, 255, 11)\n",
      " (272485.3, 2768189.52,  86.58, 255, 255, 255,  0)\n",
      " (272485.2, 2768189.62,  86.58, 255, 255, 255,  8) ...\n",
      " (272507. , 2768265.82, 101.28, 255, 255, 255,  2)\n",
      " (272507.2, 2768265.82, 101.08, 255, 255, 255,  3)\n",
      " (272507.2, 2768265.82, 101.28, 255, 255, 255,  6)]\n"
     ]
    },
    {
     "name": "stderr",
     "output_type": "stream",
     "text": [
      " 67%|██████▋   | 2/3 [00:18<00:09,  9.37s/it]"
     ]
    },
    {
     "name": "stdout",
     "output_type": "stream",
     "text": [
      "44050748\n",
      "(44050748,)\n",
      "(44050748, 3)\n",
      "[(272220.3, 2768460.52, 86.58, 255, 255, 255, 10)\n",
      " (272220.3, 2768460.42, 86.58, 255, 255, 255, 10)\n",
      " (272220.3, 2768460.42, 86.58, 255, 255, 255,  5) ...\n",
      " (272318.4, 2768430.72, 88.98, 255, 255, 255,  7)\n",
      " (272318. , 2768430.22, 89.68, 255, 255, 255,  4)\n",
      " (272318.3, 2768430.62, 88.98, 255, 255, 255,  0)]\n"
     ]
    },
    {
     "name": "stderr",
     "output_type": "stream",
     "text": [
      "100%|██████████| 3/3 [00:22<00:00,  7.47s/it]\n"
     ]
    }
   ],
   "source": [
    "for i in tqdm(range(len(input_paths))):\n",
    "    point_cloud=lp.read(input_paths[i])\n",
    "    points = np.vstack((point_cloud.x, point_cloud.y, point_cloud.z)).transpose()\n",
    "    print(len(points))\n",
    "    values = np.random.randint(13, size=len(points), dtype=np.uint8)\n",
    "    print(values.shape)\n",
    "    colors = np.ones((len(points),3), dtype=np.uint8) * 255 #np.random.randint(255, size=(10,3), dtype=np.uint8)\n",
    "    print(colors.shape)\n",
    "    # factor=3\n",
    "    # decimated_points_random = points[::factor]\n",
    "    points = np.asarray(points)\n",
    "    points.astype(np.float32)\n",
    "    field_names = ['x', 'y', 'z', 'red', 'green', 'blue', 'values']\n",
    "    write_ply(output_paths[i], [points, colors, values], field_names)\n",
    "    # write_ply(output_paths[i], points, ['x', 'y', 'z'])\n",
    "\n",
    "    "
   ]
  },
  {
   "cell_type": "code",
   "execution_count": 2,
   "metadata": {},
   "outputs": [],
   "source": [
    "file_name = 'output_3.las'\n",
    "input_path = '/media/mspl/D826716926714A10/Chuong/Thinktron/Collaborate_with_NTUST/Collaborate_with_NTUST/PointCloudExample/output/'+ file_name\n",
    "point_cloud=lp.read(input_path)\n"
   ]
  },
  {
   "cell_type": "code",
   "execution_count": 3,
   "metadata": {},
   "outputs": [],
   "source": [
    "points = np.vstack((point_cloud.x, point_cloud.y, point_cloud.z)).transpose()\n",
    "# colors = np.vstack((point_cloud.red, point_cloud.green, point_cloud.blue)).transpose()"
   ]
  },
  {
   "cell_type": "code",
   "execution_count": 4,
   "metadata": {},
   "outputs": [
    {
     "data": {
      "text/plain": [
       "295894472"
      ]
     },
     "execution_count": 4,
     "metadata": {},
     "output_type": "execute_result"
    }
   ],
   "source": [
    "len(points)"
   ]
  },
  {
   "cell_type": "code",
   "execution_count": 5,
   "metadata": {},
   "outputs": [],
   "source": [
    "#downsampling factor 160\n",
    "factor=3\n",
    "decimated_points_random = points[::factor]"
   ]
  },
  {
   "cell_type": "code",
   "execution_count": 6,
   "metadata": {},
   "outputs": [
    {
     "data": {
      "text/plain": [
       "98631491"
      ]
     },
     "execution_count": 6,
     "metadata": {},
     "output_type": "execute_result"
    }
   ],
   "source": [
    "len(decimated_points_random)"
   ]
  },
  {
   "cell_type": "code",
   "execution_count": 7,
   "metadata": {},
   "outputs": [
    {
     "data": {
      "text/plain": [
       "array([[2.7215759e+05, 2.7685262e+06, 8.3970001e+01],\n",
       "       [2.7215759e+05, 2.7685262e+06, 8.4000000e+01],\n",
       "       [2.7215759e+05, 2.7685262e+06, 8.3949997e+01],\n",
       "       ...,\n",
       "       [2.7220362e+05, 2.7685242e+06, 8.8570000e+01],\n",
       "       [2.7220378e+05, 2.7685242e+06, 8.9000000e+01],\n",
       "       [2.7219872e+05, 2.7685155e+06, 8.6989998e+01]], dtype=float32)"
      ]
     },
     "execution_count": 7,
     "metadata": {},
     "output_type": "execute_result"
    }
   ],
   "source": [
    "decimated_points = np.asarray(decimated_points_random)\n",
    "decimated_points.astype(np.float32)"
   ]
  },
  {
   "cell_type": "code",
   "execution_count": 8,
   "metadata": {},
   "outputs": [
    {
     "name": "stdout",
     "output_type": "stream",
     "text": [
      "[[2.72157580e+05 2.76852631e+06 8.39700000e+01]\n",
      " [2.72157600e+05 2.76852630e+06 8.40000000e+01]\n",
      " [2.72157590e+05 2.76852633e+06 8.39500000e+01]\n",
      " ...\n",
      " [2.72203620e+05 2.76852414e+06 8.85700000e+01]\n",
      " [2.72203780e+05 2.76852427e+06 8.90000000e+01]\n",
      " [2.72198730e+05 2.76851544e+06 8.69900000e+01]]\n"
     ]
    }
   ],
   "source": [
    "print(decimated_points)"
   ]
  },
  {
   "cell_type": "code",
   "execution_count": 10,
   "metadata": {},
   "outputs": [
    {
     "name": "stdout",
     "output_type": "stream",
     "text": [
      "[(272157.58, 2768526.31, 83.97) (272157.6 , 2768526.3 , 84.  )\n",
      " (272157.59, 2768526.33, 83.95) ... (272203.62, 2768524.14, 88.57)\n",
      " (272203.78, 2768524.27, 89.  ) (272198.73, 2768515.44, 86.99)]\n"
     ]
    },
    {
     "data": {
      "text/plain": [
       "True"
      ]
     },
     "execution_count": 10,
     "metadata": {},
     "output_type": "execute_result"
    }
   ],
   "source": [
    "write_ply('example1.ply', decimated_points, ['x', 'y', 'z'])"
   ]
  },
  {
   "cell_type": "code",
   "execution_count": 10,
   "metadata": {},
   "outputs": [],
   "source": [
    "voxel_size=6\n",
    "nb_vox=np.ceil((np.max(points, axis=0) - np.min(points, axis=0))/voxel_size)\n"
   ]
  },
  {
   "cell_type": "code",
   "execution_count": 11,
   "metadata": {},
   "outputs": [
    {
     "ename": "MemoryError",
     "evalue": "Unable to allocate 31.4 GiB for an array with shape (1406389632, 3) and data type float64",
     "output_type": "error",
     "traceback": [
      "\u001b[1;31m---------------------------------------------------------------------------\u001b[0m",
      "\u001b[1;31mMemoryError\u001b[0m                               Traceback (most recent call last)",
      "\u001b[1;32m<ipython-input-11-873685bb2a8b>\u001b[0m in \u001b[0;36m<module>\u001b[1;34m\u001b[0m\n\u001b[1;32m----> 1\u001b[1;33m \u001b[0mnon_empty_voxel_keys\u001b[0m\u001b[1;33m,\u001b[0m \u001b[0minverse\u001b[0m\u001b[1;33m,\u001b[0m \u001b[0mnb_pts_per_voxel\u001b[0m \u001b[1;33m=\u001b[0m \u001b[0mnp\u001b[0m\u001b[1;33m.\u001b[0m\u001b[0munique\u001b[0m\u001b[1;33m(\u001b[0m\u001b[1;33m(\u001b[0m\u001b[1;33m(\u001b[0m\u001b[0mpoints\u001b[0m \u001b[1;33m-\u001b[0m \u001b[0mnp\u001b[0m\u001b[1;33m.\u001b[0m\u001b[0mmin\u001b[0m\u001b[1;33m(\u001b[0m\u001b[0mpoints\u001b[0m\u001b[1;33m,\u001b[0m \u001b[0maxis\u001b[0m\u001b[1;33m=\u001b[0m\u001b[1;36m0\u001b[0m\u001b[1;33m)\u001b[0m\u001b[1;33m)\u001b[0m \u001b[1;33m//\u001b[0m \u001b[0mvoxel_size\u001b[0m\u001b[1;33m)\u001b[0m\u001b[1;33m.\u001b[0m\u001b[0mastype\u001b[0m\u001b[1;33m(\u001b[0m\u001b[0mint\u001b[0m\u001b[1;33m)\u001b[0m\u001b[1;33m,\u001b[0m \u001b[0maxis\u001b[0m\u001b[1;33m=\u001b[0m\u001b[1;36m0\u001b[0m\u001b[1;33m,\u001b[0m \u001b[0mreturn_inverse\u001b[0m\u001b[1;33m=\u001b[0m\u001b[1;32mTrue\u001b[0m\u001b[1;33m,\u001b[0m \u001b[0mreturn_counts\u001b[0m\u001b[1;33m=\u001b[0m\u001b[1;32mTrue\u001b[0m\u001b[1;33m)\u001b[0m\u001b[1;33m\u001b[0m\u001b[1;33m\u001b[0m\u001b[0m\n\u001b[0m\u001b[0;32m      2\u001b[0m \u001b[0midx_pts_vox_sorted\u001b[0m\u001b[1;33m=\u001b[0m\u001b[0mnp\u001b[0m\u001b[1;33m.\u001b[0m\u001b[0margsort\u001b[0m\u001b[1;33m(\u001b[0m\u001b[0minverse\u001b[0m\u001b[1;33m)\u001b[0m\u001b[1;33m\u001b[0m\u001b[1;33m\u001b[0m\u001b[0m\n",
      "\u001b[1;31mMemoryError\u001b[0m: Unable to allocate 31.4 GiB for an array with shape (1406389632, 3) and data type float64"
     ]
    }
   ],
   "source": [
    "non_empty_voxel_keys, inverse, nb_pts_per_voxel = np.unique(((points - np.min(points, axis=0)) // voxel_size).astype(int), axis=0, return_inverse=True, return_counts=True)\n",
    "idx_pts_vox_sorted=np.argsort(inverse)"
   ]
  },
  {
   "cell_type": "code",
   "execution_count": null,
   "metadata": {},
   "outputs": [],
   "source": [
    "voxel_grid={}\n",
    "grid_barycenter,grid_candidate_center=[],[]\n",
    "last_seen=0"
   ]
  },
  {
   "cell_type": "code",
   "execution_count": null,
   "metadata": {},
   "outputs": [],
   "source": [
    "for idx,vox in enumerate(non_empty_voxel_keys):\n",
    "    voxel_grid[tuple(vox)]= points[idx_pts_vox_sorted[last_seen:last_seen+nb_pts_per_voxel[idx]]]\n",
    "    grid_barycenter.append(np.mean(voxel_grid[tuple(vox)],axis=0))\n",
    "    grid_candidate_center.append(voxel_grid[tuple(vox)][np.linalg.norm(voxel_grid[tuple(vox)] - np.mean(voxel_grid[tuple(vox)],axis=0),axis=1).argmin()])\n",
    "    last_seen+=nb_pts_per_voxel[idx]\n"
   ]
  },
  {
   "cell_type": "code",
   "execution_count": 6,
   "metadata": {},
   "outputs": [
    {
     "data": {
      "image/png": "[encoded data removed]",
      "text/plain": [
       "<Figure size 432x288 with 1 Axes>"
      ]
     },
     "metadata": {
      "needs_background": "light"
     },
     "output_type": "display_data"
    }
   ],
   "source": [
    "import matplotlib.pyplot as plt\n",
    "from mpl_toolkits import mplot3d\n",
    "\n",
    "ax = plt.axes(projection='3d')\n",
    "ax.scatter(decimated_points_random[:,0], decimated_points_random[:,1], decimated_points_random[:,2], s=0.01)\n",
    "plt.show()"
   ]
  },
  {
   "cell_type": "code",
   "execution_count": null,
   "metadata": {},
   "outputs": [],
   "source": []
  },
  {
   "cell_type": "code",
   "execution_count": null,
   "metadata": {},
   "outputs": [],
   "source": []
  }
 ],
 "metadata": {
  "interpreter": {
   "hash": "80250f3b802ca854e1b7c1811e8a94129113e74dd35de90ebc7af6cba73e9fad"
  },
  "kernelspec": {
   "display_name": "Python 3.6.13 ('torch1')",
   "language": "python",
   "name": "python3"
  },
  "language_info": {
   "codemirror_mode": {
    "name": "ipython",
    "version": 3
   },
   "file_extension": ".py",
   "mimetype": "text/x-python",
   "name": "python",
   "nbconvert_exporter": "python",
   "pygments_lexer": "ipython3",
   "version": "3.6.13"
  },
  "orig_nbformat": 4
 },
 "nbformat": 4,
 "nbformat_minor": 2
}
