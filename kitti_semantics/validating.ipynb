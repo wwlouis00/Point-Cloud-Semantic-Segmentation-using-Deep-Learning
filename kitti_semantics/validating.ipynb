{
 "cells": [
  {
   "cell_type": "code",
   "execution_count": 1,
   "metadata": {},
   "outputs": [
    {
     "name": "stdout",
     "output_type": "stream",
     "text": [
      "Jupyter environment detected. Enabling Open3D WebVisualizer.\n",
      "[Open3D INFO] WebRTC GUI backend enabled.\n",
      "[Open3D INFO] WebRTCWindowSystem: HTTP handshake server disabled.\n"
     ]
    }
   ],
   "source": [
    "import numpy as np\n",
    "import laspy as lp\n",
    "from tool import DataProcessing as DP\n",
    "from helper_ply import write_ply, read_ply\n",
    "from tqdm import tqdm\n"
   ]
  },
  {
   "cell_type": "code",
   "execution_count": 3,
   "metadata": {},
   "outputs": [],
   "source": [
    "from labels import id2label"
   ]
  },
  {
   "cell_type": "code",
   "execution_count": 4,
   "metadata": {},
   "outputs": [
    {
     "name": "stdout",
     "output_type": "stream",
     "text": [
      "unlabeled :  -1\n",
      "ego vehicle :  -1\n",
      "rectification border :  -1\n",
      "out of roi :  -1\n",
      "static :  -1\n",
      "dynamic :  -1\n",
      "ground :  -1\n",
      "road :  0\n",
      "sidewalk :  1\n",
      "parking :  -1\n",
      "rail track :  -1\n",
      "building :  2\n",
      "wall :  3\n",
      "fence :  4\n",
      "guard rail :  -1\n",
      "bridge :  -1\n",
      "tunnel :  -1\n",
      "pole :  5\n",
      "polegroup :  -1\n",
      "traffic light :  6\n",
      "traffic sign :  7\n",
      "vegetation :  8\n",
      "terrain :  9\n",
      "sky :  -1\n",
      "person :  10\n",
      "rider :  -1\n",
      "car :  11\n",
      "truck :  12\n",
      "bus :  -1\n",
      "caravan :  -1\n",
      "trailer :  -1\n",
      "train :  -1\n",
      "motorcycle :  13\n",
      "bicycle :  14\n",
      "garage :  2\n",
      "gate :  4\n",
      "stop :  -1\n",
      "smallpole :  5\n",
      "lamp :  -1\n",
      "trash bin :  -1\n",
      "vending machine :  -1\n",
      "box :  -1\n",
      "unknown construction :  -1\n",
      "unknown vehicle :  -1\n",
      "unknown object :  -1\n"
     ]
    }
   ],
   "source": [
    "id2label\n",
    "for i in range(len(id2label)-1):\n",
    "    print(id2label[i].name, ': ', id2label[i].trainId)"
   ]
  },
  {
   "cell_type": "code",
   "execution_count": 5,
   "metadata": {},
   "outputs": [],
   "source": [
    "# path = '/home/mspl/kitti_semantics/test/Log_2022-09-20_07-10-03/test_preds2/validationTT1.ply'\n",
    "\n",
    "# data = read_ply(path)\n",
    "# # np.savetxt('./data.txt', data, fmt='%d')\n",
    "# print(data.dtype)\n",
    "# print(np.asarray(data))"
   ]
  },
  {
   "cell_type": "code",
   "execution_count": 5,
   "metadata": {},
   "outputs": [],
   "source": [
    "# path = 'data_3d_semantics/train/2013_05_28_drive_0000_sync/static/0000000002_0000000385.ply'\n",
    "path = '/home/mspl/kitti_semantics/test/Log_2022-09-20_07-10-03/test_preds2/validationTT1.ply'\n",
    "\n",
    "xyz, rgb, labels = DP.read_ply_data(path, with_rgb=True, with_label=True)"
   ]
  },
  {
   "cell_type": "code",
   "execution_count": 6,
   "metadata": {},
   "outputs": [
    {
     "name": "stdout",
     "output_type": "stream",
     "text": [
      "[1 1 0 ... 8 8 8]\n"
     ]
    }
   ],
   "source": [
    "print(labels)"
   ]
  },
  {
   "cell_type": "code",
   "execution_count": 7,
   "metadata": {},
   "outputs": [],
   "source": [
    "#  traffic signs (1) and traffic lights (2)\n",
    "# for i in tqdm(range(len(labels))):\n",
    "#     if labels[i] == 6:\n",
    "#         labels[i] = 2\n",
    "#     elif labels[i] == 7:\n",
    "#         labels[i] = 1\n",
    "#     else:\n",
    "#         labels[i] = 0"
   ]
  },
  {
   "cell_type": "code",
   "execution_count": 35,
   "metadata": {},
   "outputs": [],
   "source": [
    "# point_cloud_las=lp.read('/home/mspl/Downloads/validation.las')"
   ]
  },
  {
   "cell_type": "code",
   "execution_count": 7,
   "metadata": {},
   "outputs": [
    {
     "name": "stdout",
     "output_type": "stream",
     "text": [
      "4270169\n"
     ]
    }
   ],
   "source": [
    "# label_gt = np.asarray(point_cloud_las.classification)\n",
    "# print(label_gt)\n",
    "_, _, labels_gt = DP.read_ply_data('/home/mspl/kitti_semantics/Dataset/kitti/train/validationTT1.ply', with_rgb=True, with_label=True)\n",
    "print(len(labels_gt))"
   ]
  },
  {
   "cell_type": "code",
   "execution_count": 8,
   "metadata": {},
   "outputs": [
    {
     "data": {
      "text/plain": [
       "array([ 1,  1, 11, ...,  8,  8,  8], dtype=uint8)"
      ]
     },
     "execution_count": 8,
     "metadata": {},
     "output_type": "execute_result"
    }
   ],
   "source": [
    "labels_gt"
   ]
  },
  {
   "cell_type": "code",
   "execution_count": 9,
   "metadata": {},
   "outputs": [
    {
     "name": "stdout",
     "output_type": "stream",
     "text": [
      "[1 1 0 ... 8 8 8]\n"
     ]
    }
   ],
   "source": [
    "print(labels)"
   ]
  },
  {
   "cell_type": "code",
   "execution_count": 10,
   "metadata": {},
   "outputs": [],
   "source": [
    "from sklearn.metrics import confusion_matrix"
   ]
  },
  {
   "cell_type": "code",
   "execution_count": 27,
   "metadata": {},
   "outputs": [],
   "source": [
    "\n",
    "correct = np.sum(labels == labels_gt)\n",
    "\n",
    "conf_matrix = confusion_matrix(labels_gt, labels, labels=np.arange(0, 15, 1))\n",
    "gt_classes = np.sum(conf_matrix, axis=1)\n",
    "positive_classes = np.sum(conf_matrix, axis=0)\n",
    "true_positive_classes = np.diagonal(conf_matrix)"
   ]
  },
  {
   "cell_type": "code",
   "execution_count": 17,
   "metadata": {},
   "outputs": [],
   "source": [
    "iou_list = []\n",
    "for n in range(0, 11, 1):\n",
    "    iou = true_positive_classes[n] / float(gt_classes[n] + positive_classes[n] - true_positive_classes[n] + 0.1)\n",
    "    iou_list.append(iou)\n",
    "mean_iou = sum(iou_list) / float(12)"
   ]
  },
  {
   "cell_type": "code",
   "execution_count": 18,
   "metadata": {},
   "outputs": [
    {
     "name": "stdout",
     "output_type": "stream",
     "text": [
      "[0.9253953803762398, 0.4996360550315799, 0.016208590230904003, 0.15704780339281638, 0.13500358695365006, 0.502893403961169, 0.0, 0.057138984544095286, 0.7123965067078035, 0.6621737698524162, 0.6781092247920266]\n",
      "0.36216694215355844\n",
      "[[2880085  121698       0       0     142     457       0       0       0\n",
      "    77183    8204       0]\n",
      " [  10913  199816     326     605    7215    4896       0       0     806\n",
      "    35202    3402     588]\n",
      " [      0       0    2014       0       0     223       0      59     703\n",
      "        0       0       0]\n",
      " [      0    1872   80717   18507       0       0       0       0       0\n",
      "        0       0       0]\n",
      " [      0    1660      35   14969    6643       0       0       0   11668\n",
      "        0       0       0]\n",
      " [    289      73   11401       1    1364   63257       0     356   12353\n",
      "     4047       0      92]\n",
      " [      0       0   28408       0       0    3681       0     603   30629\n",
      "      646       0       0]\n",
      " [      0       0     369       0       0    9812       0    1349   10357\n",
      "        0       0       0]\n",
      " [      0    4854       0    1172    5510   10987       0     704  239262\n",
      "     2505    2998    1347]\n",
      " [  12534    5949       0       0       0    2497       0       0       0\n",
      "   276057     240      30]\n",
      " [    770      48       0       0       0       0       0       0       0\n",
      "        5   33005       0]\n",
      " [      0       0       0       0       0       0       0       0       0\n",
      "        0       0       0]]\n",
      "0.8711587293149288\n"
     ]
    }
   ],
   "source": [
    "print(iou_list)\n",
    "print(mean_iou)\n",
    "print(conf_matrix)\n",
    "print(correct/len(labels_gt))"
   ]
  },
  {
   "cell_type": "code",
   "execution_count": 29,
   "metadata": {},
   "outputs": [
    {
     "data": {
      "text/plain": [
       "<sklearn.metrics._plot.confusion_matrix.ConfusionMatrixDisplay at 0x7f01ef9e2a10>"
      ]
     },
     "execution_count": 29,
     "metadata": {},
     "output_type": "execute_result"
    },
    {
     "data": {
      "image/png": "[encoded data removed]",
      "text/plain": [
       "<Figure size 432x288 with 2 Axes>"
      ]
     },
     "metadata": {
      "needs_background": "light"
     },
     "output_type": "display_data"
    }
   ],
   "source": [
    "from sklearn.metrics import confusion_matrix, ConfusionMatrixDisplay\n",
    "cmd = ConfusionMatrixDisplay(conf_matrix, display_labels=['road','sidewalk','building','wall','fence','pole','traffic light','traffic sign','vegetation','terrain',\n",
    "                                'person',\n",
    "                                'car',\n",
    "                                'truck',\n",
    "                                'motorcycle',\n",
    "                                'bicycle'\n",
    "                                ])\n",
    "cmd.plot(cmap = 'Blues', values_format = '.2f', xticks_rotation = 'vertical')\n",
    "\n"
   ]
  },
  {
   "cell_type": "markdown",
   "metadata": {},
   "source": [
    "                        predicted\n",
    "                     0       1       2  \n",
    "                  -----    -----   -----\n",
    "               0| 4194491|  2977 |   0\n",
    "      (actual)    -----    -----   -----\n",
    "               1| 13619  |  351  |   0\n",
    "                  -----    -----   -----\n",
    "               2| 58731  |   0   |   0  "
   ]
  },
  {
   "cell_type": "markdown",
   "metadata": {},
   "source": [
    "### Downsampled factor 3"
   ]
  },
  {
   "cell_type": "code",
   "execution_count": 18,
   "metadata": {},
   "outputs": [],
   "source": [
    "path = '/home/mspl/kitti_semantics/test/Log_2022-09-20_07-10-03/test_preds2/validationTT2.ply'\n",
    "\n",
    "xyz, rgb, labels = DP.read_ply_data(path, with_rgb=True, with_label=True)\n",
    "# for i in tqdm(range(len(labels))):\n",
    "#     if labels[i] == 6:\n",
    "#         labels[i] = 2\n",
    "#     elif labels[i] == 7:\n",
    "#         labels[i] = 1\n",
    "#     else:\n",
    "#         labels[i] = 0\n"
   ]
  },
  {
   "cell_type": "code",
   "execution_count": 19,
   "metadata": {},
   "outputs": [
    {
     "name": "stdout",
     "output_type": "stream",
     "text": [
      "1423389\n"
     ]
    }
   ],
   "source": [
    "_, _, labels_gt = DP.read_ply_data('/home/mspl/kitti_semantics/Dataset/kitti/train/validationTT2.ply', with_rgb=True, with_label=True)\n",
    "print(len(labels_gt))"
   ]
  },
  {
   "cell_type": "code",
   "execution_count": 20,
   "metadata": {},
   "outputs": [
    {
     "name": "stdout",
     "output_type": "stream",
     "text": [
      "[0.9049314178478088, 0.4394661927224068, 0.016258040352853387, 0.4586575472479794, 0.2552810012024105, 0.550168496291513, 0.0, 0.17541825602022004, 0.7520812135109536, 0.6090756594278511, 0.0, 0.5328720773210737, 0.0, 0.0, 0.0]\n",
      "0.31294732679633797\n",
      "[[942383  44554      0      0      8      0      0      0     10  41137\n",
      "       0   1069      0      0      0]\n",
      " [  9549  59542      2    320   1263    443      0      0   1080  15057\n",
      "       0    707      0      0      0]\n",
      " [     0      0    573      0      0    118      0     24    269      0\n",
      "       0      0      0      0      0]\n",
      " [     0    510  14807  18267     16      0      0      0      0      0\n",
      "       0      0      0      0      0]\n",
      " [     0    346    100   5607   3588      0      0      0   2004     26\n",
      "       0      0      0      0      0]\n",
      " [   123    384    650      0    256  21044      0    147   6771   1613\n",
      "       0     13      0     52      0]\n",
      " [    68      0  17165      0      0   1351      0   1156   1409    149\n",
      "       0      0      0      0      0]\n",
      " [     0      0   1514      0      0   3273      0   1513    980      0\n",
      "       0      0      0      0      0]\n",
      " [   619   1035     22    300    841   1384      0      0  76944   1641\n",
      "       0   6748      0    251      0]\n",
      " [  1344    593      0      0      0    585      0      0      0  96837\n",
      "       0      0      0      0      0]\n",
      " [     0      0      0      0      0      0      0      0      0      0\n",
      "       0      0      0      0      0]\n",
      " [   522    102      0      0      0     43      0     18      0      8\n",
      "       6  10536      0      0      0]\n",
      " [     0      0      0      0      0      0      0      0      0      0\n",
      "       0      0      0      0      0]\n",
      " [     0      0      0      0      0      0      0      0      0      0\n",
      "       0      0      0      0      0]\n",
      " [     0      0      0      0      0      0      0      0      0      0\n",
      "       0      0      0      0      0]]\n",
      "0.2883321479782182\n"
     ]
    }
   ],
   "source": [
    "from sklearn.metrics import confusion_matrix\n",
    "\n",
    "correct = np.sum(labels == labels_gt)\n",
    "\n",
    "conf_matrix = confusion_matrix(labels_gt, labels, np.arange(0, 15, 1))\n",
    "gt_classes = np.sum(conf_matrix, axis=1)\n",
    "positive_classes = np.sum(conf_matrix, axis=0)\n",
    "true_positive_classes = np.diagonal(conf_matrix)\n",
    "\n",
    "iou_list = []\n",
    "for n in range(0, 15, 1):\n",
    "    iou = true_positive_classes[n] / float(gt_classes[n] + positive_classes[n] - true_positive_classes[n] + 0.1)\n",
    "    iou_list.append(iou)\n",
    "mean_iou = sum(iou_list) / float(15)\n",
    "\n",
    "print(iou_list)\n",
    "print(mean_iou)\n",
    "print(conf_matrix)\n",
    "print(correct/len(label_gt))"
   ]
  },
  {
   "cell_type": "markdown",
   "metadata": {},
   "source": [
    "                        predicted\n",
    "                     0       1       2  \n",
    "                  -----    -----   -----\n",
    "               0| 1395986|  2994  |  4\n",
    "      (actual)    -----    -----   -----\n",
    "               1| 3539   |  1186  |  0\n",
    "                  -----    -----   -----\n",
    "               2| 18500  |  1180  |  0  "
   ]
  },
  {
   "cell_type": "markdown",
   "metadata": {},
   "source": [
    "### Downsampled factor 4"
   ]
  },
  {
   "cell_type": "code",
   "execution_count": 21,
   "metadata": {},
   "outputs": [],
   "source": [
    "path = '/home/mspl/kitti_semantics/test/Log_2022-09-20_07-10-03/test_preds2/validationTT3.ply'\n",
    "\n",
    "xyz, rgb, labels = DP.read_ply_data(path, with_rgb=True, with_label=True)\n",
    "# for i in tqdm(range(len(labels))):\n",
    "#     if labels[i] == 6:\n",
    "#         labels[i] = 2\n",
    "#     elif labels[i] == 7:\n",
    "#         labels[i] = 1\n",
    "#     else:\n",
    "#         labels[i] = 0\n"
   ]
  },
  {
   "cell_type": "code",
   "execution_count": 22,
   "metadata": {},
   "outputs": [
    {
     "name": "stdout",
     "output_type": "stream",
     "text": [
      "1067542\n"
     ]
    }
   ],
   "source": [
    "_, _, labels_gt = DP.read_ply_data('/home/mspl/kitti_semantics/Dataset/kitti/train/validationTT3.ply', with_rgb=True, with_label=True)\n",
    "print(len(labels_gt))"
   ]
  },
  {
   "cell_type": "code",
   "execution_count": 24,
   "metadata": {},
   "outputs": [
    {
     "name": "stdout",
     "output_type": "stream",
     "text": [
      "[0.9292319331196596, 0.5322564424754072, 0.01807258340253016, 0.424832956492644, 0.3986947677120228, 0.6225891239934241, 0.0, 0.07263450382671714, 0.631091909259644, 0.6466230323160621, 0.0, 0.4647369856812022, 0.0, 0.0, 0.0]\n",
      "0.31605094921862087\n",
      "[[724197  23277      0      0      0     99      0      0      0  23771\n",
      "       0   1094      0      0      0]\n",
      " [  4212  49221    122    241    378    559      0      0    157   9552\n",
      "       0   1503      0    117      0]\n",
      " [     0      0    259      0      0    178      0     84    179      1\n",
      "       0      0      0      0      0]\n",
      " [     0    196  12572  12570      0      0      0      0      0      0\n",
      "       0      0      0      0      0]\n",
      " [     0    423     29   3863   3861      0      0      0    526     19\n",
      "       0      0      0      0      0]\n",
      " [    69    485    209      0     18  19352      0     36   2124    673\n",
      "       0    161      0      0      0]\n",
      " [     0      0    472      0      0    917      0    433  14032    148\n",
      "       0      0      0      0      0]\n",
      " [     0      0    200      0      0   2563      0    447   2295      0\n",
      "       0      0      0      0      0]\n",
      " [   106   1217     26    146    567   2890      0     94  54368    735\n",
      "       0   6103      0    584      0]\n",
      " [  2172    815      0      0      0    750      0      0      0  70707\n",
      "       0      0      0      0      0]\n",
      " [     0      0      0      0      0      0      0      0      0      0\n",
      "       0      0      0      0      0]\n",
      " [   353      1      0      0      0      0      0      2      0      5\n",
      "       0   8007      0      0      0]\n",
      " [     0      0      0      0      0      0      0      0      0      0\n",
      "       0      0      0      0      0]\n",
      " [     0      0      0      0      0      0      0      0      0      0\n",
      "       0      0      0      0      0]\n",
      " [     0      0      0      0      0      0      0      0      0      0\n",
      "       0      0      0      0      0]]\n",
      "0.22083177504215876\n"
     ]
    }
   ],
   "source": [
    "from sklearn.metrics import confusion_matrix\n",
    "\n",
    "correct = np.sum(labels == labels_gt)\n",
    "\n",
    "conf_matrix = confusion_matrix(labels_gt, labels, np.arange(0, 15, 1))\n",
    "gt_classes = np.sum(conf_matrix, axis=1)\n",
    "positive_classes = np.sum(conf_matrix, axis=0)\n",
    "true_positive_classes = np.diagonal(conf_matrix)\n",
    "\n",
    "iou_list = []\n",
    "for n in range(0, 15, 1):\n",
    "    iou = true_positive_classes[n] / float(gt_classes[n] + positive_classes[n] - true_positive_classes[n] + 0.1)\n",
    "    iou_list.append(iou)\n",
    "mean_iou = sum(iou_list) / float(15)\n",
    "\n",
    "print(iou_list)\n",
    "print(mean_iou)\n",
    "print(conf_matrix)\n",
    "print(correct/len(label_gt))"
   ]
  },
  {
   "cell_type": "markdown",
   "metadata": {},
   "source": [
    "                        predicted\n",
    "                     0       1       2  \n",
    "                  -----    -----   -----\n",
    "               0| 1047106| 2172  |   0\n",
    "      (actual)    -----    -----   -----\n",
    "               1| 3439   |  43   |   0\n",
    "                  -----    -----   -----\n",
    "               2| 14573  |  209  |   0  "
   ]
  },
  {
   "cell_type": "code",
   "execution_count": null,
   "metadata": {},
   "outputs": [],
   "source": []
  },
  {
   "cell_type": "code",
   "execution_count": null,
   "metadata": {},
   "outputs": [],
   "source": []
  },
  {
   "cell_type": "code",
   "execution_count": null,
   "metadata": {},
   "outputs": [],
   "source": []
  },
  {
   "cell_type": "code",
   "execution_count": null,
   "metadata": {},
   "outputs": [],
   "source": []
  },
  {
   "cell_type": "code",
   "execution_count": null,
   "metadata": {},
   "outputs": [],
   "source": []
  },
  {
   "cell_type": "code",
   "execution_count": null,
   "metadata": {},
   "outputs": [],
   "source": []
  },
  {
   "cell_type": "code",
   "execution_count": null,
   "metadata": {},
   "outputs": [],
   "source": []
  },
  {
   "cell_type": "code",
   "execution_count": 16,
   "metadata": {},
   "outputs": [
    {
     "ename": "KeyError",
     "evalue": "255",
     "output_type": "error",
     "traceback": [
      "\u001b[0;31m---------------------------------------------------------------------------\u001b[0m",
      "\u001b[0;31mKeyError\u001b[0m                                  Traceback (most recent call last)",
      "\u001b[0;32m<ipython-input-16-9d845ed5d483>\u001b[0m in \u001b[0;36m<module>\u001b[0;34m\u001b[0m\n\u001b[1;32m      1\u001b[0m \u001b[0;32mfor\u001b[0m \u001b[0mi\u001b[0m \u001b[0;32min\u001b[0m \u001b[0mrange\u001b[0m\u001b[0;34m(\u001b[0m\u001b[0mlen\u001b[0m\u001b[0;34m(\u001b[0m\u001b[0mlabels\u001b[0m\u001b[0;34m)\u001b[0m\u001b[0;34m)\u001b[0m\u001b[0;34m:\u001b[0m\u001b[0;34m\u001b[0m\u001b[0;34m\u001b[0m\u001b[0m\n\u001b[0;32m----> 2\u001b[0;31m     \u001b[0mlabels\u001b[0m\u001b[0;34m[\u001b[0m\u001b[0mi\u001b[0m\u001b[0;34m]\u001b[0m \u001b[0;34m=\u001b[0m \u001b[0mid2label\u001b[0m\u001b[0;34m[\u001b[0m\u001b[0mlabels\u001b[0m\u001b[0;34m[\u001b[0m\u001b[0mi\u001b[0m\u001b[0;34m]\u001b[0m\u001b[0;34m]\u001b[0m\u001b[0;34m.\u001b[0m\u001b[0mtrainId\u001b[0m\u001b[0;34m\u001b[0m\u001b[0;34m\u001b[0m\u001b[0m\n\u001b[0m",
      "\u001b[0;31mKeyError\u001b[0m: 255"
     ]
    }
   ],
   "source": [
    "for i in range(len(labels)):\n",
    "    labels[i] = id2label[labels[i]].trainId"
   ]
  },
  {
   "cell_type": "code",
   "execution_count": 18,
   "metadata": {},
   "outputs": [
    {
     "data": {
      "text/plain": [
       "array([9, 9, 9, ..., 8, 8, 8], dtype=uint8)"
      ]
     },
     "execution_count": 18,
     "metadata": {},
     "output_type": "execute_result"
    }
   ],
   "source": [
    "labels"
   ]
  },
  {
   "cell_type": "code",
   "execution_count": 19,
   "metadata": {},
   "outputs": [],
   "source": [
    "# labels.tofile('labels.txt')\n",
    "np.savetxt('./data.txt', labels, delimiter=',', fmt='%d')"
   ]
  },
  {
   "cell_type": "code",
   "execution_count": 10,
   "metadata": {},
   "outputs": [
    {
     "data": {
      "text/plain": [
       "6"
      ]
     },
     "execution_count": 10,
     "metadata": {},
     "output_type": "execute_result"
    }
   ],
   "source": [
    "min(labels.tolist())"
   ]
  },
  {
   "cell_type": "code",
   "execution_count": 4,
   "metadata": {},
   "outputs": [],
   "source": [
    "import pandas as pd\n",
    "import os\n",
    "from os import listdir\n",
    "from os.path import isfile, join, split"
   ]
  },
  {
   "cell_type": "code",
   "execution_count": 20,
   "metadata": {},
   "outputs": [],
   "source": [
    "train_files = list(pd.read_csv('data_3d_semantics/train/2013_05_28_drive_train.txt', delimiter = \"\\t\", header=None)[0])\n",
    "val_files = list(pd.read_csv('data_3d_semantics/train/2013_05_28_drive_val.txt', delimiter = \"\\t\", header=None)[0])"
   ]
  },
  {
   "cell_type": "code",
   "execution_count": 21,
   "metadata": {},
   "outputs": [
    {
     "name": "stdout",
     "output_type": "stream",
     "text": [
      "42\n"
     ]
    }
   ],
   "source": [
    "testpath1 = 'data_3d_semantics/test/2013_05_28_drive_0008_sync/static/'\n",
    "testpath2 = 'data_3d_semantics/test/2013_05_28_drive_0018_sync/static/'\n",
    "test_files = [join(testpath1, f) for f in listdir(testpath1) if isfile(join(testpath1, f))] + [join(testpath2, f) for f in listdir(testpath2) if isfile(join(testpath2, f))]\n",
    "\n",
    "print(len(test_files))"
   ]
  },
  {
   "cell_type": "code",
   "execution_count": null,
   "metadata": {},
   "outputs": [],
   "source": [
    "# train files\n",
    "output_path = 'data_3d_semantics/train/converted_train3/'\n",
    "# print(output_paths)\n",
    "for i in tqdm(range(len(train_files))):\n",
    "    _, filename = split(train_files[i])\n",
    "    # point_cloud=lp.read(train_files[i])\n",
    "    xyz, rgb, labels = DP.read_ply_data(train_files[i], with_rgb=True, with_label=True)\n",
    "    for i in range(len(labels)):\n",
    "        labels[i] = id2label[labels[i]].trainId\n",
    "        if labels[i]==-1 or labels[i]==255:\n",
    "            labels[i] = 15\n",
    "    field_names = ['x', 'y', 'z', 'red', 'green', 'blue', 'semantic']\n",
    "    write_ply(join(output_path, filename), [xyz, rgb, labels], field_names)\n",
    "    # write_ply(output_paths[i], points, ['x', 'y', 'z'])"
   ]
  },
  {
   "cell_type": "code",
   "execution_count": null,
   "metadata": {},
   "outputs": [],
   "source": [
    "# val files\n",
    "output_path = 'data_3d_semantics/train/converted_val3/'\n",
    "# print(output_paths)\n",
    "for i in tqdm(range(len(val_files))):\n",
    "    _, filename = split(val_files[i])\n",
    "    xyz, rgb, labels = DP.read_ply_data(val_files[i], with_rgb=True, with_label=True)\n",
    "    for i in range(len(labels)):\n",
    "        labels[i] = id2label[labels[i]].trainId\n",
    "        if labels[i]==-1 or labels[i]==255:\n",
    "            labels[i] = 15\n",
    "    field_names = ['x', 'y', 'z', 'red', 'green', 'blue', 'semantic']\n",
    "    write_ply(join(output_path, filename), [xyz, rgb, labels], field_names)"
   ]
  },
  {
   "cell_type": "code",
   "execution_count": null,
   "metadata": {},
   "outputs": [],
   "source": [
    "# test files\n",
    "output_path = 'data_3d_semantics/test/converted_test3/'\n",
    "# print(output_paths)\n",
    "for i in tqdm(range(len(test_files))):\n",
    "    _, filename = split(test_files[i])\n",
    "    xyz, rgb = DP.read_ply_data(test_files[i], with_rgb=True, with_label=False)\n",
    "    field_names = ['x', 'y', 'z', 'red', 'green', 'blue']\n",
    "    write_ply(join(output_path, filename), [xyz, rgb], field_names)"
   ]
  },
  {
   "cell_type": "code",
   "execution_count": 10,
   "metadata": {},
   "outputs": [
    {
     "data": {
      "text/plain": [
       "array([[1000.8657, 3820.2976,  116.2225],\n",
       "       [1000.8753, 3820.3816,  116.193 ],\n",
       "       [1000.9065, 3820.6013,  116.188 ],\n",
       "       ...,\n",
       "       [1001.1812, 3820.5242,  117.0209],\n",
       "       [1001.1264, 3820.5708,  117.1629],\n",
       "       [1001.1545, 3820.547 ,  117.3406]], dtype=float32)"
      ]
     },
     "execution_count": 10,
     "metadata": {},
     "output_type": "execute_result"
    }
   ],
   "source": [
    "xyz"
   ]
  },
  {
   "cell_type": "code",
   "execution_count": 4,
   "metadata": {},
   "outputs": [
    {
     "name": "stdout",
     "output_type": "stream",
     "text": [
      "923.1289062817252\n",
      "3741.386696354439\n",
      "115.50409675015104\n"
     ]
    }
   ],
   "source": [
    "length = xyz.shape[0]\n",
    "sum_x = np.sum(xyz[:, 0])\n",
    "sum_y = np.sum(xyz[:, 1])\n",
    "sum_z = np.sum(xyz[:, 2])\n",
    "x = sum_x/length\n",
    "y = sum_y/length\n",
    "z = sum_z/length\n",
    "print(x)\n",
    "print(y)\n",
    "print(z)"
   ]
  },
  {
   "cell_type": "code",
   "execution_count": 26,
   "metadata": {},
   "outputs": [],
   "source": [
    "path2= './output/output_1.ply'\n",
    "xyz2, rgb2 = DP.read_ply_data(path2, with_rgb=True, with_label=False)"
   ]
  },
  {
   "cell_type": "code",
   "execution_count": 27,
   "metadata": {},
   "outputs": [
    {
     "name": "stdout",
     "output_type": "stream",
     "text": [
      "272023.23462732113\n",
      "2768801.6810691734\n",
      "85.93140776051813\n"
     ]
    }
   ],
   "source": [
    "length = xyz2.shape[0]\n",
    "sum_x2 = np.sum(xyz2[:, 0])\n",
    "sum_y2 = np.sum(xyz2[:, 1])\n",
    "sum_z2 = np.sum(xyz2[:, 2])\n",
    "x2 = sum_x2/length\n",
    "y2 = sum_y2/length\n",
    "z2 = sum_z2/length\n",
    "print(x2)\n",
    "print(y2)\n",
    "print(z2)"
   ]
  },
  {
   "cell_type": "code",
   "execution_count": 28,
   "metadata": {},
   "outputs": [
    {
     "name": "stdout",
     "output_type": "stream",
     "text": [
      "272448.97268604464\n",
      "2768556.926875687\n",
      "87.34436235290374\n"
     ]
    }
   ],
   "source": [
    "path3= './output/output_2.ply'\n",
    "xyz3, rgb3 = DP.read_ply_data(path3, with_rgb=True, with_label=False)\n",
    "length3 = xyz3.shape[0]\n",
    "sum_x3 = np.sum(xyz3[:, 0])\n",
    "sum_y3 = np.sum(xyz3[:, 1])\n",
    "sum_z3 = np.sum(xyz3[:, 2])\n",
    "x3 = sum_x3/length3\n",
    "y3 = sum_y3/length3\n",
    "z3 = sum_z3/length3\n",
    "print(x3)\n",
    "print(y3)\n",
    "print(z3)"
   ]
  },
  {
   "cell_type": "code",
   "execution_count": 30,
   "metadata": {},
   "outputs": [
    {
     "name": "stdout",
     "output_type": "stream",
     "text": [
      "272266.28807301976\n",
      "2768611.057881151\n",
      "85.152511099244\n"
     ]
    }
   ],
   "source": [
    "path4= './output/output_3.ply'\n",
    "xyz4, rgb4 = DP.read_ply_data(path4, with_rgb=True, with_label=False)\n",
    "length4 = xyz4.shape[0]\n",
    "sum_x4 = np.sum(xyz4[:, 0])\n",
    "sum_y4 = np.sum(xyz4[:, 1])\n",
    "sum_z4 = np.sum(xyz4[:, 2])\n",
    "x4 = sum_x4/length4\n",
    "y4 = sum_y4/length4\n",
    "z4 = sum_z4/length4\n",
    "print(x4)\n",
    "print(y4)\n",
    "print(z4)"
   ]
  },
  {
   "cell_type": "code",
   "execution_count": 31,
   "metadata": {},
   "outputs": [
    {
     "name": "stdout",
     "output_type": "stream",
     "text": [
      "272246.1651287952 2768656.5552753373 86.14276040422196\n"
     ]
    }
   ],
   "source": [
    "X = (x2 + x3 + x4)/3\n",
    "Y = (y2 + y3 + y4)/3\n",
    "Z = (z2 + z3 + z4)/3\n",
    "print(X,Y,Z)"
   ]
  },
  {
   "cell_type": "code",
   "execution_count": 32,
   "metadata": {},
   "outputs": [
    {
     "name": "stdout",
     "output_type": "stream",
     "text": [
      "271201.9259522997 2766607.620358451 46.498865480348066\n"
     ]
    }
   ],
   "source": [
    "tx = X - x\n",
    "ty = Y - y\n",
    "tz = Z - z \n",
    "print(tx, ty, tz)"
   ]
  },
  {
   "cell_type": "code",
   "execution_count": 2,
   "metadata": {},
   "outputs": [],
   "source": [
    "input_paths = [ './input/output_1.las',\n",
    "                './input/output_2.las',\n",
    "                './input/output_3.las']"
   ]
  },
  {
   "cell_type": "code",
   "execution_count": 3,
   "metadata": {},
   "outputs": [],
   "source": [
    "output_paths = ['./output/output_1.ply',\n",
    "                './output/output_2.ply',\n",
    "                './output/output_3.ply']"
   ]
  },
  {
   "cell_type": "code",
   "execution_count": 8,
   "metadata": {},
   "outputs": [
    {
     "name": "stdout",
     "output_type": "stream",
     "text": [
      "[[1 1 1]\n",
      " [1 1 1]\n",
      " [1 1 1]]\n",
      "[[1 1 1]]\n",
      "[[2 2 2]\n",
      " [2 2 2]\n",
      " [2 2 2]]\n"
     ]
    }
   ],
   "source": [
    "a = np.ones((3,3),dtype=np.uint)\n",
    "b = np.ones((1,3),dtype=np.uint)\n",
    "print(a)\n",
    "print(b)\n",
    "for i in range(3):\n",
    "    a[i,:] = a[i,:] + b\n",
    "print(a)"
   ]
  },
  {
   "cell_type": "code",
   "execution_count": null,
   "metadata": {},
   "outputs": [],
   "source": [
    "for i in tqdm(range(len(input_paths))):\n",
    "    point_cloud=lp.read(input_paths[i])\n",
    "    points = np.vstack((point_cloud.x, point_cloud.y, point_cloud.z)).transpose()\n",
    "    print(len(points))\n",
    "    values = np.random.randint(13, size=len(points), dtype=np.uint8)\n",
    "    print(values.shape)\n",
    "    colors = np.ones((len(points),3), dtype=np.uint8) * 255 #np.random.randint(255, size=(10,3), dtype=np.uint8)\n",
    "    print(colors.shape)\n",
    "    # factor=3\n",
    "    # decimated_points_random = points[::factor]\n",
    "    points = np.asarray(points)\n",
    "    points.astype(np.float32)\n",
    "    field_names = ['x', 'y', 'z', 'red', 'green', 'blue', 'values']\n",
    "    write_ply(output_paths[i], [points, colors, values], field_names)\n",
    "    # write_ply(output_paths[i], points, ['x', 'y', 'z'])\n",
    "\n",
    "    "
   ]
  },
  {
   "cell_type": "code",
   "execution_count": 2,
   "metadata": {},
   "outputs": [],
   "source": [
    "file_name = 'output_3.las'\n",
    "input_path = '/media/mspl/D826716926714A10/Chuong/Thinktron/Collaborate_with_NTUST/Collaborate_with_NTUST/PointCloudExample/output/'+ file_name\n",
    "point_cloud=lp.read(input_path)\n"
   ]
  },
  {
   "cell_type": "code",
   "execution_count": 3,
   "metadata": {},
   "outputs": [],
   "source": [
    "file_name = 'validation.las'\n",
    "input_path = '/home/mspl/Downloads/'+ file_name\n",
    "point_cloud=lp.read(input_path)"
   ]
  },
  {
   "cell_type": "code",
   "execution_count": 16,
   "metadata": {},
   "outputs": [],
   "source": [
    "labels = np.asarray(point_cloud.classification)"
   ]
  },
  {
   "cell_type": "code",
   "execution_count": 9,
   "metadata": {},
   "outputs": [
    {
     "name": "stdout",
     "output_type": "stream",
     "text": [
      "[0 0 0 ... 0 0 0]\n"
     ]
    }
   ],
   "source": [
    "print(np.asarray(labels))\n",
    "np.savetxt('./labelstest.txt', labels, delimiter=',', fmt='%d')"
   ]
  },
  {
   "cell_type": "code",
   "execution_count": 10,
   "metadata": {},
   "outputs": [],
   "source": [
    "points = np.vstack((point_cloud.x, point_cloud.y, point_cloud.z)).transpose()\n",
    "# colors = np.vstack((point_cloud.red, point_cloud.green, point_cloud.blue)).transpose()"
   ]
  },
  {
   "cell_type": "code",
   "execution_count": 12,
   "metadata": {},
   "outputs": [
    {
     "name": "stdout",
     "output_type": "stream",
     "text": [
      "4270169\n",
      "[[2.71872330e+05 2.76845692e+06 8.79500000e+01]\n",
      " [2.71872810e+05 2.76845737e+06 8.79300000e+01]\n",
      " [2.71873500e+05 2.76845811e+06 8.79400000e+01]\n",
      " ...\n",
      " [2.71897920e+05 2.76846220e+06 9.36700000e+01]\n",
      " [2.71900360e+05 2.76846352e+06 9.31700000e+01]\n",
      " [2.71899020e+05 2.76846234e+06 9.43000000e+01]]\n"
     ]
    }
   ],
   "source": [
    "print(len(points))\n",
    "print(points)"
   ]
  },
  {
   "cell_type": "code",
   "execution_count": 13,
   "metadata": {},
   "outputs": [
    {
     "name": "stdout",
     "output_type": "stream",
     "text": [
      "(4270169, 3)\n"
     ]
    },
    {
     "name": "stderr",
     "output_type": "stream",
     "text": [
      "100%|██████████| 4270169/4270169 [00:09<00:00, 435920.41it/s]\n"
     ]
    }
   ],
   "source": [
    "tx = -271023\n",
    "ty = -2767801\n",
    "tz = 0\n",
    "\n",
    "newxyz = np.ones(points.shape)\n",
    "print(newxyz.shape)\n",
    "# print(newxyz)\n",
    "# newxyz = np.expand_dims(newxyz, axis=0)\n",
    "# print(newxyz)\n",
    "for j in tqdm(range(len(points))):\n",
    "    newxyz[j, :] = points[j,:] + np.array([tx, ty, tz])"
   ]
  },
  {
   "cell_type": "code",
   "execution_count": 14,
   "metadata": {},
   "outputs": [
    {
     "name": "stdout",
     "output_type": "stream",
     "text": [
      "[[849.33 655.92  87.95]\n",
      " [849.81 656.37  87.93]\n",
      " [850.5  657.11  87.94]\n",
      " ...\n",
      " [874.92 661.2   93.67]\n",
      " [877.36 662.52  93.17]\n",
      " [876.02 661.34  94.3 ]]\n"
     ]
    }
   ],
   "source": [
    "print(newxyz)"
   ]
  },
  {
   "cell_type": "code",
   "execution_count": 19,
   "metadata": {},
   "outputs": [],
   "source": [
    "colors = np.ones((len(newxyz),3), dtype=np.uint8)"
   ]
  },
  {
   "cell_type": "code",
   "execution_count": 20,
   "metadata": {},
   "outputs": [
    {
     "name": "stdout",
     "output_type": "stream",
     "text": [
      "[(849.33, 655.92, 87.95, 1, 1, 1, 0) (849.81, 656.37, 87.93, 1, 1, 1, 0)\n",
      " (850.5 , 657.11, 87.94, 1, 1, 1, 0) ...\n",
      " (874.92, 661.2 , 93.67, 1, 1, 1, 0) (877.36, 662.52, 93.17, 1, 1, 1, 0)\n",
      " (876.02, 661.34, 94.3 , 1, 1, 1, 0)]\n"
     ]
    },
    {
     "data": {
      "text/plain": [
       "True"
      ]
     },
     "execution_count": 20,
     "metadata": {},
     "output_type": "execute_result"
    }
   ],
   "source": [
    "write_ply('validation.ply', [newxyz, colors, labels], ['x', 'y', 'z', 'red', 'green', 'blue', 'semantic'])"
   ]
  },
  {
   "cell_type": "code",
   "execution_count": 5,
   "metadata": {},
   "outputs": [],
   "source": [
    "#downsampling factor 160\n",
    "factor=3\n",
    "decimated_points_random = points[::factor]"
   ]
  },
  {
   "cell_type": "code",
   "execution_count": 6,
   "metadata": {},
   "outputs": [
    {
     "data": {
      "text/plain": [
       "98631491"
      ]
     },
     "execution_count": 6,
     "metadata": {},
     "output_type": "execute_result"
    }
   ],
   "source": [
    "len(decimated_points_random)"
   ]
  },
  {
   "cell_type": "code",
   "execution_count": 7,
   "metadata": {},
   "outputs": [
    {
     "data": {
      "text/plain": [
       "array([[2.7215759e+05, 2.7685262e+06, 8.3970001e+01],\n",
       "       [2.7215759e+05, 2.7685262e+06, 8.4000000e+01],\n",
       "       [2.7215759e+05, 2.7685262e+06, 8.3949997e+01],\n",
       "       ...,\n",
       "       [2.7220362e+05, 2.7685242e+06, 8.8570000e+01],\n",
       "       [2.7220378e+05, 2.7685242e+06, 8.9000000e+01],\n",
       "       [2.7219872e+05, 2.7685155e+06, 8.6989998e+01]], dtype=float32)"
      ]
     },
     "execution_count": 7,
     "metadata": {},
     "output_type": "execute_result"
    }
   ],
   "source": [
    "decimated_points = np.asarray(decimated_points_random)\n",
    "decimated_points.astype(np.float32)"
   ]
  },
  {
   "cell_type": "code",
   "execution_count": 8,
   "metadata": {},
   "outputs": [
    {
     "name": "stdout",
     "output_type": "stream",
     "text": [
      "[[2.72157580e+05 2.76852631e+06 8.39700000e+01]\n",
      " [2.72157600e+05 2.76852630e+06 8.40000000e+01]\n",
      " [2.72157590e+05 2.76852633e+06 8.39500000e+01]\n",
      " ...\n",
      " [2.72203620e+05 2.76852414e+06 8.85700000e+01]\n",
      " [2.72203780e+05 2.76852427e+06 8.90000000e+01]\n",
      " [2.72198730e+05 2.76851544e+06 8.69900000e+01]]\n"
     ]
    }
   ],
   "source": [
    "print(decimated_points)"
   ]
  },
  {
   "cell_type": "code",
   "execution_count": 10,
   "metadata": {},
   "outputs": [
    {
     "name": "stdout",
     "output_type": "stream",
     "text": [
      "[(272157.58, 2768526.31, 83.97) (272157.6 , 2768526.3 , 84.  )\n",
      " (272157.59, 2768526.33, 83.95) ... (272203.62, 2768524.14, 88.57)\n",
      " (272203.78, 2768524.27, 89.  ) (272198.73, 2768515.44, 86.99)]\n"
     ]
    },
    {
     "data": {
      "text/plain": [
       "True"
      ]
     },
     "execution_count": 10,
     "metadata": {},
     "output_type": "execute_result"
    }
   ],
   "source": [
    "write_ply('example1.ply', decimated_points, ['x', 'y', 'z'])"
   ]
  },
  {
   "cell_type": "code",
   "execution_count": 10,
   "metadata": {},
   "outputs": [],
   "source": [
    "voxel_size=6\n",
    "nb_vox=np.ceil((np.max(points, axis=0) - np.min(points, axis=0))/voxel_size)\n"
   ]
  },
  {
   "cell_type": "code",
   "execution_count": 11,
   "metadata": {},
   "outputs": [
    {
     "ename": "MemoryError",
     "evalue": "Unable to allocate 31.4 GiB for an array with shape (1406389632, 3) and data type float64",
     "output_type": "error",
     "traceback": [
      "\u001b[1;31m---------------------------------------------------------------------------\u001b[0m",
      "\u001b[1;31mMemoryError\u001b[0m                               Traceback (most recent call last)",
      "\u001b[1;32m<ipython-input-11-873685bb2a8b>\u001b[0m in \u001b[0;36m<module>\u001b[1;34m\u001b[0m\n\u001b[1;32m----> 1\u001b[1;33m \u001b[0mnon_empty_voxel_keys\u001b[0m\u001b[1;33m,\u001b[0m \u001b[0minverse\u001b[0m\u001b[1;33m,\u001b[0m \u001b[0mnb_pts_per_voxel\u001b[0m \u001b[1;33m=\u001b[0m \u001b[0mnp\u001b[0m\u001b[1;33m.\u001b[0m\u001b[0munique\u001b[0m\u001b[1;33m(\u001b[0m\u001b[1;33m(\u001b[0m\u001b[1;33m(\u001b[0m\u001b[0mpoints\u001b[0m \u001b[1;33m-\u001b[0m \u001b[0mnp\u001b[0m\u001b[1;33m.\u001b[0m\u001b[0mmin\u001b[0m\u001b[1;33m(\u001b[0m\u001b[0mpoints\u001b[0m\u001b[1;33m,\u001b[0m \u001b[0maxis\u001b[0m\u001b[1;33m=\u001b[0m\u001b[1;36m0\u001b[0m\u001b[1;33m)\u001b[0m\u001b[1;33m)\u001b[0m \u001b[1;33m//\u001b[0m \u001b[0mvoxel_size\u001b[0m\u001b[1;33m)\u001b[0m\u001b[1;33m.\u001b[0m\u001b[0mastype\u001b[0m\u001b[1;33m(\u001b[0m\u001b[0mint\u001b[0m\u001b[1;33m)\u001b[0m\u001b[1;33m,\u001b[0m \u001b[0maxis\u001b[0m\u001b[1;33m=\u001b[0m\u001b[1;36m0\u001b[0m\u001b[1;33m,\u001b[0m \u001b[0mreturn_inverse\u001b[0m\u001b[1;33m=\u001b[0m\u001b[1;32mTrue\u001b[0m\u001b[1;33m,\u001b[0m \u001b[0mreturn_counts\u001b[0m\u001b[1;33m=\u001b[0m\u001b[1;32mTrue\u001b[0m\u001b[1;33m)\u001b[0m\u001b[1;33m\u001b[0m\u001b[1;33m\u001b[0m\u001b[0m\n\u001b[0m\u001b[0;32m      2\u001b[0m \u001b[0midx_pts_vox_sorted\u001b[0m\u001b[1;33m=\u001b[0m\u001b[0mnp\u001b[0m\u001b[1;33m.\u001b[0m\u001b[0margsort\u001b[0m\u001b[1;33m(\u001b[0m\u001b[0minverse\u001b[0m\u001b[1;33m)\u001b[0m\u001b[1;33m\u001b[0m\u001b[1;33m\u001b[0m\u001b[0m\n",
      "\u001b[1;31mMemoryError\u001b[0m: Unable to allocate 31.4 GiB for an array with shape (1406389632, 3) and data type float64"
     ]
    }
   ],
   "source": [
    "non_empty_voxel_keys, inverse, nb_pts_per_voxel = np.unique(((points - np.min(points, axis=0)) // voxel_size).astype(int), axis=0, return_inverse=True, return_counts=True)\n",
    "idx_pts_vox_sorted=np.argsort(inverse)"
   ]
  },
  {
   "cell_type": "code",
   "execution_count": null,
   "metadata": {},
   "outputs": [],
   "source": [
    "voxel_grid={}\n",
    "grid_barycenter,grid_candidate_center=[],[]\n",
    "last_seen=0"
   ]
  },
  {
   "cell_type": "code",
   "execution_count": null,
   "metadata": {},
   "outputs": [],
   "source": [
    "for idx,vox in enumerate(non_empty_voxel_keys):\n",
    "    voxel_grid[tuple(vox)]= points[idx_pts_vox_sorted[last_seen:last_seen+nb_pts_per_voxel[idx]]]\n",
    "    grid_barycenter.append(np.mean(voxel_grid[tuple(vox)],axis=0))\n",
    "    grid_candidate_center.append(voxel_grid[tuple(vox)][np.linalg.norm(voxel_grid[tuple(vox)] - np.mean(voxel_grid[tuple(vox)],axis=0),axis=1).argmin()])\n",
    "    last_seen+=nb_pts_per_voxel[idx]\n"
   ]
  },
  {
   "cell_type": "code",
   "execution_count": 6,
   "metadata": {},
   "outputs": [
    {
     "data": {
      "image/png": "[encoded data removed]",
      "text/plain": [
       "<Figure size 432x288 with 1 Axes>"
      ]
     },
     "metadata": {
      "needs_background": "light"
     },
     "output_type": "display_data"
    }
   ],
   "source": [
    "import matplotlib.pyplot as plt\n",
    "from mpl_toolkits import mplot3d\n",
    "\n",
    "ax = plt.axes(projection='3d')\n",
    "ax.scatter(decimated_points_random[:,0], decimated_points_random[:,1], decimated_points_random[:,2], s=0.01)\n",
    "plt.show()"
   ]
  },
  {
   "cell_type": "code",
   "execution_count": null,
   "metadata": {},
   "outputs": [],
   "source": []
  },
  {
   "cell_type": "code",
   "execution_count": null,
   "metadata": {},
   "outputs": [],
   "source": []
  }
 ],
 "metadata": {
  "kernelspec": {
   "display_name": "Python 3.7.9 ('deep_view_aggregation')",
   "language": "python",
   "name": "python3"
  },
  "language_info": {
   "codemirror_mode": {
    "name": "ipython",
    "version": 3
   },
   "file_extension": ".py",
   "mimetype": "text/x-python",
   "name": "python",
   "nbconvert_exporter": "python",
   "pygments_lexer": "ipython3",
   "version": "3.7.9"
  },
  "orig_nbformat": 4,
  "vscode": {
   "interpreter": {
    "hash": "0343b8bb540e439745616e85840a37d3cf921f912f41a2d73ab9474a64787719"
   }
  }
 },
 "nbformat": 4,
 "nbformat_minor": 2
}
